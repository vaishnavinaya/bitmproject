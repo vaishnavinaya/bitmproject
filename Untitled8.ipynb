{
 "cells": [
  {
   "cell_type": "code",
   "execution_count": 1,
   "id": "97dab3c5-cef8-44c9-836c-d6bb12e1dcfa",
   "metadata": {},
   "outputs": [
    {
     "name": "stdin",
     "output_type": "stream",
     "text": [
      " 7\n",
      " *\n",
      " 7\n"
     ]
    },
    {
     "name": "stdout",
     "output_type": "stream",
     "text": [
      "49.0\n"
     ]
    }
   ],
   "source": [
    "write a program to create simple calculator \n",
    "i/p      o/p\n",
    "20       80\n",
    "*\n",
    "4"
   ]
  },
  {
   "cell_type": "code",
   "execution_count": 4,
   "id": "96c3262a-416f-464d-8bb1-3f6232059f19",
   "metadata": {},
   "outputs": [
    {
     "name": "stdin",
     "output_type": "stream",
     "text": [
      " 5\n",
      " +\n",
      " 5\n"
     ]
    },
    {
     "name": "stdout",
     "output_type": "stream",
     "text": [
      "10.0\n"
     ]
    }
   ],
   "source": [
    "a=float(input())\n",
    "s=(input())\n",
    "b=float(input())\n",
    "if(s=='+'):\n",
    "    print(a+b)\n",
    "elif(s=='-'):\n",
    "    print(a-b)\n",
    "elif(s=='*'):\n",
    "    print(a*b)\n",
    "elif(s=='/'):\n",
    "    print(a/b)\n",
    "elif(s=='//'):\n",
    "    print(a//b)\n",
    "elif(s=='%'):\n",
    "    print(a%b)\n",
    "else:\n",
    "    print(\"invalid input\")"
   ]
  },
  {
   "cell_type": "code",
   "execution_count": null,
   "id": "93405a54-6b2b-4e43-ae54-dc1f79f9b7b1",
   "metadata": {},
   "outputs": [],
   "source": [
    "write a program to print prime numbers in a range\n",
    "i/p       o/p\n",
    "11        2 3 5 7 11"
   ]
  },
  {
   "cell_type": "code",
   "execution_count": 8,
   "id": "935338c1-d98d-416c-ba99-24daa4f7c6d8",
   "metadata": {},
   "outputs": [
    {
     "name": "stdin",
     "output_type": "stream",
     "text": [
      " 3\n"
     ]
    },
    {
     "name": "stdout",
     "output_type": "stream",
     "text": [
      "prime\n"
     ]
    }
   ],
   "source": [
    "n=int(input())\n",
    "c=0\n",
    "for i in range(1,n+1):\n",
    "    if(n%i==0):\n",
    "        c=c+1\n",
    "if(c==2):\n",
    "    print(\"prime\")\n",
    "else:\n",
    "    print(\"not prime\")"
   ]
  },
  {
   "cell_type": "code",
   "execution_count": 1,
   "id": "3597587a-8dd4-4e20-9761-ad15bc2b0f2e",
   "metadata": {},
   "outputs": [
    {
     "name": "stdin",
     "output_type": "stream",
     "text": [
      " 7\n"
     ]
    },
    {
     "name": "stdout",
     "output_type": "stream",
     "text": [
      "1\n",
      "2\n",
      "3\n",
      "5\n",
      "7\n"
     ]
    }
   ],
   "source": [
    "n=int(input())\n",
    "for i in range(1,n+1):\n",
    "    c=1\n",
    "    for j in range(2,int(i/2)+1):\n",
    "        if(i%j==0):\n",
    "            c=0\n",
    "            break\n",
    "    if(c==1):\n",
    "        print(i)"
   ]
  },
  {
   "cell_type": "code",
   "execution_count": null,
   "id": "7a6ee02e-703c-4639-ba44-9a95637f54d1",
   "metadata": {},
   "outputs": [],
   "source": [
    "write a prgrm to print sprcial numbers a digit numbr is said to be \n",
    "a special number if the sum of sum of its digits and product of its \n",
    "digits is equal to the number itself is said to be a special number"
   ]
  },
  {
   "cell_type": "code",
   "execution_count": 6,
   "id": "b93b0b26-3b38-4542-86e4-695ae8a70e3c",
   "metadata": {},
   "outputs": [
    {
     "name": "stdin",
     "output_type": "stream",
     "text": [
      " 11\n",
      " 29\n"
     ]
    },
    {
     "name": "stdout",
     "output_type": "stream",
     "text": [
      "19\n",
      "29\n"
     ]
    }
   ],
   "source": [
    "n1=int(input())\n",
    "n2=int(input())\n",
    "for i in range(n1,n2+1):\n",
    "    sum=((i//10)+(i%10))+((i//10)*(i%10))\n",
    "    if(sum==i):\n",
    "        print(sum)"
   ]
  },
  {
   "cell_type": "code",
   "execution_count": null,
   "id": "bad80e37-3607-405d-b3a4-8eb07bef584c",
   "metadata": {},
   "outputs": [],
   "source": [
    "write a program to print the following series \n",
    "i/p        o/p\n",
    "10         0 2 8 14 24 34 48 62 80 98...."
   ]
  },
  {
   "cell_type": "code",
   "execution_count": 10,
   "id": "3babf2cc-45f6-43de-8163-209eec845bee",
   "metadata": {},
   "outputs": [
    {
     "name": "stdin",
     "output_type": "stream",
     "text": [
      " 10\n"
     ]
    },
    {
     "name": "stdout",
     "output_type": "stream",
     "text": [
      "0\n",
      "2\n",
      "8\n",
      "14\n",
      "24\n",
      "34\n",
      "48\n",
      "62\n",
      "80\n",
      "98\n"
     ]
    }
   ],
   "source": [
    "n=int(input())\n",
    "for i in range(1,n+1):\n",
    "    if(i%2==0):\n",
    "        print((i*i)-2)\n",
    "    else:\n",
    "        print((i*i)-1)\n",
    "    "
   ]
  },
  {
   "cell_type": "code",
   "execution_count": null,
   "id": "d6774164-ba67-4099-9abf-d50d319c5f5d",
   "metadata": {},
   "outputs": [],
   "source": [
    "pie charts"
   ]
  },
  {
   "cell_type": "code",
   "execution_count": 9,
   "id": "ebc12e82-b45e-429b-b93d-d56e7cac814e",
   "metadata": {},
   "outputs": [
    {
     "data": {
      "text/plain": [
       "Text(0.5, 0.98, 'BITM BRANCHES')"
      ]
     },
     "execution_count": 9,
     "metadata": {},
     "output_type": "execute_result"
    },
    {
     "data": {
      "image/png": "[encoded data removed]",
      "text/plain": [
       "<Figure size 640x480 with 1 Axes>"
      ]
     },
     "metadata": {},
     "output_type": "display_data"
    }
   ],
   "source": [
    "import matplotlib.pyplot as plt\n",
    "x=[\"civil\",\"mechanical\",\"ECE\",\"EEE\",\"CS\",\"DS\",\"AI\"]\n",
    "popup=[0,0,.2,0,.2,0,0]\n",
    "color=[\"red\",\"black\",\"orange\",\"yellow\",\"pink\",\"blue\",\"green\"]\n",
    "y=[500,700,100,200,350,460,800]\n",
    "plt.pie(y,labels=x,explode=popup,shadow=True,colors=color,autopct=\"%.1f%%\")\n",
    "plt.legend(bbox_to_anchor=[1,.4])\n",
    "plt.suptitle(\"BITM BRANCHES\",c=\"m\")"
   ]
  },
  {
   "cell_type": "code",
   "execution_count": null,
   "id": "2ed6bd23-1d72-444d-8e92-f269899940ad",
   "metadata": {},
   "outputs": [],
   "source": [
    "write a program to print hallow square pattern"
   ]
  },
  {
   "cell_type": "code",
   "execution_count": 13,
   "id": "c52dc511-40cc-48df-84d4-b960396af007",
   "metadata": {},
   "outputs": [
    {
     "name": "stdin",
     "output_type": "stream",
     "text": [
      " 10\n"
     ]
    },
    {
     "name": "stdout",
     "output_type": "stream",
     "text": [
      "* * * * * * * * * * \n",
      "*                 * \n",
      "*                 * \n",
      "*                 * \n",
      "*                 * \n",
      "*                 * \n",
      "*                 * \n",
      "*                 * \n",
      "*                 * \n",
      "* * * * * * * * * * \n"
     ]
    }
   ],
   "source": [
    "a=int(input())\n",
    "for i in range(a):\n",
    "    for j in range(a):\n",
    "        if(i==0 or i==a-1 or j==0 or j==a-1):\n",
    "            print(\"*\",end=\" \")\n",
    "        else:\n",
    "            print(\" \",end=\" \")\n",
    "    print()"
   ]
  },
  {
   "cell_type": "code",
   "execution_count": 19,
   "id": "7249f1ba-22f3-4166-9356-5c266d9b49d6",
   "metadata": {},
   "outputs": [
    {
     "name": "stdout",
     "output_type": "stream",
     "text": [
      "x=8\n"
     ]
    }
   ],
   "source": [
    "def my_function(x,/):\n",
    "    print(\"x=\"+str(x))\n",
    "my_function(8)"
   ]
  },
  {
   "cell_type": "code",
   "execution_count": null,
   "id": "4881ffcd-499b-4ee0-a9f0-8f1f9422d80c",
   "metadata": {},
   "outputs": [],
   "source": [
    "def my_function(food):\n",
    "    print(food)\n"
   ]
  },
  {
   "cell_type": "code",
   "execution_count": 12,
   "id": "989cb1ed-2d21-4173-95ea-30ad76b5104e",
   "metadata": {},
   "outputs": [
    {
     "name": "stdout",
     "output_type": "stream",
     "text": [
      "x= 8\n"
     ]
    }
   ],
   "source": [
    "def my_function(*,x):\n",
    "    print(\"x=\",x)\n",
    "my_function(x=8)"
   ]
  },
  {
   "cell_type": "code",
   "execution_count": null,
   "id": "7ad6ade8-0660-45bc-bca5-7d39237393fc",
   "metadata": {},
   "outputs": [],
   "source": [
    "nikitha and dany are close friends they both are studying in  school now they are on summer vaccation.As they are bored \n",
    "they ask their parents to take them to an excibition. nikitha and dany playing game in this game there are three boxes with \n",
    "some number written on the top there is a treassure in one of the box they need to decode the current code of the box code will \n",
    "be the scond largest number among the three numbers will have the treassure and the key to open the box is the number which is divisible\n",
    "by all three numbers\n",
    "i/p          0/p\n",
    "2,4,6        treassure is in box no 4\n",
    "             the key to open the box 2"
   ]
  },
  {
   "cell_type": "code",
   "execution_count": 20,
   "id": "ef11f631-c92d-4919-9b91-24d0f0a8893b",
   "metadata": {},
   "outputs": [
    {
     "name": "stdin",
     "output_type": "stream",
     "text": [
      " 2\n",
      " 4\n",
      " 6\n"
     ]
    },
    {
     "name": "stdout",
     "output_type": "stream",
     "text": [
      "treassure is in box no  4\n",
      "key to open the box is  2\n"
     ]
    }
   ],
   "source": [
    "b1=int(input())\n",
    "b2=int(input())\n",
    "b3=int(input())\n",
    "if((b1>b2 and b1<b3)or (b1<b2 and b1>b3)):\n",
    "    print(\"treassure is in box no \",b1)\n",
    "elif((b2>b1 and b2<b3)or (b2<b3 and b2>b3)):\n",
    "    print(\"treassure is in box no \",b2)\n",
    "else:\n",
    "    print(\"treassure is in box no \",b3)\n",
    "key=0\n",
    "for i in range(1,10):\n",
    "    if(b1%i==0 and b2%i==0 and b3%i==0):\n",
    "        key=i\n",
    "print(\"key to open the box is \",key)"
   ]
  },
  {
   "cell_type": "code",
   "execution_count": 50,
   "id": "c908bdf4-96b6-498b-bacc-eb7b43dc70ac",
   "metadata": {},
   "outputs": [
    {
     "name": "stdout",
     "output_type": "stream",
     "text": [
      "9\n",
      "8\n",
      "7\n",
      "6\n",
      "5\n",
      "4\n",
      "3\n",
      "2\n",
      "1\n",
      "0\n"
     ]
    }
   ],
   "source": [
    "num=range(10)\n",
    "for n in reversed(num):\n",
    "    print(n)"
   ]
  },
  {
   "cell_type": "code",
   "execution_count": 1,
   "id": "950207c1-fd9e-43f6-91b8-fdddc1286b1e",
   "metadata": {},
   "outputs": [
    {
     "name": "stdin",
     "output_type": "stream",
     "text": [
      " 4\n"
     ]
    },
    {
     "name": "stdout",
     "output_type": "stream",
     "text": [
      "4\n",
      "3\n",
      "2\n",
      "1\n"
     ]
    }
   ],
   "source": [
    "n=int(input())\n",
    "for i in range(n,0,-1):\n",
    "    print(i)"
   ]
  },
  {
   "cell_type": "code",
   "execution_count": null,
   "id": "d05f3cbd-a508-47c9-957f-c15f88a37f27",
   "metadata": {},
   "outputs": [],
   "source": [
    "factorial of number"
   ]
  },
  {
   "cell_type": "code",
   "execution_count": 2,
   "id": "dffd6ace-494d-4962-943b-0513f4a53b32",
   "metadata": {},
   "outputs": [
    {
     "name": "stdin",
     "output_type": "stream",
     "text": [
      " 8\n"
     ]
    },
    {
     "name": "stdout",
     "output_type": "stream",
     "text": [
      "40320\n"
     ]
    }
   ],
   "source": [
    "m=int(input())\n",
    "c=1\n",
    "while(m>1):\n",
    "        c=c*m\n",
    "        m=m-1\n",
    "sum=m+c\n",
    "print(c)"
   ]
  },
  {
   "cell_type": "code",
   "execution_count": null,
   "id": "0696505f-b3fb-4b05-8495-5ceea4e6e3ea",
   "metadata": {},
   "outputs": [],
   "source": [
    "write the program to find whether the givenn input is strong number is not for\n",
    "example 145 is strong number\n",
    "reason : in the factorial of 1+ factorial of 4 + factorial of 5 = 145"
   ]
  },
  {
   "cell_type": "code",
   "execution_count": 3,
   "id": "960542a1-1caf-4b93-a028-1cf148635c09",
   "metadata": {},
   "outputs": [
    {
     "name": "stdin",
     "output_type": "stream",
     "text": [
      " 145\n"
     ]
    },
    {
     "name": "stdout",
     "output_type": "stream",
     "text": [
      "not a strong number\n"
     ]
    }
   ],
   "source": [
    "n=int(input())\n",
    "original=n\n",
    "while(n>0):\n",
    "    m=n%10\n",
    "    c=1\n",
    "    while(m>1):\n",
    "        c=c*m\n",
    "        m=m-1\n",
    "    sum=sum+c\n",
    "    n=n//10\n",
    "if(original==sum):\n",
    "    print(\"strong number\")\n",
    "else:\n",
    "    print(\"not a strong number\")"
   ]
  },
  {
   "cell_type": "code",
   "execution_count": null,
   "id": "d888f4cf-b9f2-4b2d-9b82-e2c0c559bfb9",
   "metadata": {},
   "outputs": [],
   "source": [
    "write a program to print sum of digits till single"
   ]
  },
  {
   "cell_type": "code",
   "execution_count": 7,
   "id": "70b363b4-ae20-4666-96f0-08b74aa86057",
   "metadata": {},
   "outputs": [
    {
     "name": "stdin",
     "output_type": "stream",
     "text": [
      " 12\n"
     ]
    },
    {
     "name": "stdout",
     "output_type": "stream",
     "text": [
      "3\n"
     ]
    }
   ],
   "source": [
    "n=int(input())\n",
    "if(n==0):\n",
    "    print(\"0\")\n",
    "if(n%9==0):\n",
    "    print(\"9\")\n",
    "else:\n",
    "    print(n%9)"
   ]
  },
  {
   "cell_type": "code",
   "execution_count": 12,
   "id": "78e82e4c-5631-41e9-8bbf-18e73d9aa203",
   "metadata": {},
   "outputs": [
    {
     "name": "stdout",
     "output_type": "stream",
     "text": [
      "mno nop opq\n"
     ]
    }
   ],
   "source": [
    "class civil:\n",
    "    def vaish(self,a,b,c):\n",
    "        self.a=a\n",
    "        self.b=b\n",
    "        self.c=c\n",
    "        print(a,b,c)\n",
    "obj=civil()\n",
    "obj.vaish(\"mno\",\"nop\",\"opq\")"
   ]
  }
 ],
 "metadata": {
  "kernelspec": {
   "display_name": "Python 3 (ipykernel)",
   "language": "python",
   "name": "python3"
  },
  "language_info": {
   "codemirror_mode": {
    "name": "ipython",
    "version": 3
   },
   "file_extension": ".py",
   "mimetype": "text/x-python",
   "name": "python",
   "nbconvert_exporter": "python",
   "pygments_lexer": "ipython3",
   "version": "3.11.7"
  }
 },
 "nbformat": 4,
 "nbformat_minor": 5
}
