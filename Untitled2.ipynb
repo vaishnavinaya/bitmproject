{
 "cells": [
  {
   "cell_type": "code",
   "execution_count": 6,
   "id": "cb618bcf-6d91-4e11-8336-7bad531b399c",
   "metadata": {},
   "outputs": [
    {
     "name": "stdin",
     "output_type": "stream",
     "text": [
      " 729\n",
      " 65\n",
      " 87\n"
     ]
    },
    {
     "name": "stdout",
     "output_type": "stream",
     "text": [
      "473\n",
      "222\n",
      "11\n"
     ]
    }
   ],
   "source": [
    "tg=int(input())\n",
    "lbs=int(input())\n",
    "bbs=int(input())\n",
    "lbc=(tg*lbs)//100\n",
    "bbc=((tg-lbc)*bbs)//100\n",
    "rem=(tg-(lbc+bbc))//3\n",
    "print(lbc)\n",
    "print(bbc)\n",
    "print(rem)"
   ]
  },
  {
   "cell_type": "code",
   "execution_count": 8,
   "id": "58c7117c-0ca9-480a-a752-5efbd233a357",
   "metadata": {},
   "outputs": [
    {
     "name": "stdin",
     "output_type": "stream",
     "text": [
      " 5\n",
      " 10\n"
     ]
    },
    {
     "name": "stdout",
     "output_type": "stream",
     "text": [
      "6\n"
     ]
    }
   ],
   "source": [
    "import math\n",
    "x1=3\n",
    "y1=4\n",
    "x2=int(input())\n",
    "y2=int(input())\n",
    "print(int(math.sqrt(((x2-x1)*(x2-x1))+((y2-y1)*(y2-y1)))))"
   ]
  },
  {
   "cell_type": "code",
   "execution_count": 10,
   "id": "c1a42fca-7ed6-4575-8667-a6b23cb0cca3",
   "metadata": {},
   "outputs": [
    {
     "name": "stdin",
     "output_type": "stream",
     "text": [
      " 30\n",
      " 10\n",
      " 140\n",
      " 99\n"
     ]
    },
    {
     "name": "stdout",
     "output_type": "stream",
     "text": [
      "171 9\n"
     ]
    }
   ],
   "source": [
    "d1=int(input())\n",
    "c1=int(input())\n",
    "d2=int(input())\n",
    "c2=int(input())\n",
    "td=(d1+d2)+(c1+c2)//100\n",
    "rc=(c1+c2)%100\n",
    "print(td,rc)\n",
    "\n"
   ]
  },
  {
   "cell_type": "code",
   "execution_count": 17,
   "id": "8e7cd4fb-8c9a-4833-9d92-59547e87fd0b",
   "metadata": {},
   "outputs": [
    {
     "name": "stdin",
     "output_type": "stream",
     "text": [
      " 789\n"
     ]
    },
    {
     "name": "stdout",
     "output_type": "stream",
     "text": [
      "987\n"
     ]
    }
   ],
   "source": [
    "n=int(input())\n",
    "f=n//100\n",
    "s=(n%100)//10\n",
    "l=n%10\n",
    "rev=l*100+s*10+f\n",
    "print(rev)"
   ]
  },
  {
   "cell_type": "code",
   "execution_count": 16,
   "id": "7cda5e7e-9a90-4b49-8a66-580ba498b86c",
   "metadata": {},
   "outputs": [
    {
     "data": {
      "text/plain": [
       "<BarContainer object of 3 artists>"
      ]
     },
     "execution_count": 16,
     "metadata": {},
     "output_type": "execute_result"
    },
    {
     "data": {
      "image/png": "[encoded data removed]",
      "text/plain": [
       "<Figure size 640x480 with 1 Axes>"
      ]
     },
     "metadata": {},
     "output_type": "display_data"
    }
   ],
   "source": [
    "import matplotlib.pyplot as plt\n",
    "x=[\"2020\",\"2021\",\"2022\"]\n",
    "y=[100,150,200]\n",
    "col=[\"red\",\"red\",\"red\"]\n",
    "plt.bar(x,y,color=col,ec=\"k\",width=0.5)"
   ]
  },
  {
   "cell_type": "code",
   "execution_count": 9,
   "id": "276ec2c7-502d-45fc-a4df-554d8cf84bf3",
   "metadata": {},
   "outputs": [
    {
     "data": {
      "text/plain": [
       "[<matplotlib.lines.Line2D at 0x29550356c50>]"
      ]
     },
     "execution_count": 9,
     "metadata": {},
     "output_type": "execute_result"
    },
    {
     "data": {
      "image/png": "[encoded data removed]",
      "text/plain": [
       "<Figure size 640x480 with 2 Axes>"
      ]
     },
     "metadata": {},
     "output_type": "display_data"
    }
   ],
   "source": [
    "import matplotlib.pyplot as plt\n",
    "x=[\"2020\",\"2021\",\"2022\"]\n",
    "y=[100,150,200]\n",
    "col=[\"k\",\"k\",\"k\"]\n",
    "plt.subplot(2,2,1)\n",
    "plt.bar(x,y,color=col,width=0.5)\n",
    "x=[4,1,1,4,4,1]\n",
    "y=[4,4,3,3,2,2]\n",
    "plt.subplot(2,2,2)\n",
    "plt.plot(x,y,color=\"black\")"
   ]
  },
  {
   "cell_type": "markdown",
   "id": "377cfd02-0bfe-4ace-abac-2f68f3abae5c",
   "metadata": {
    "jp-MarkdownHeadingCollapsed": true
   },
   "source": [
    "### l=input()\n",
    "if((l>='a' and l<='z') or (l>='A' and l<='Z')):\n",
    "    if(l=='a' or l=='e'or l=='i' or l=='o' or l=='u' or l=='A' or l=='E' or l=='I' or l=='O' or l=='U'):\n",
    "        print(\"vowel\",l)\n",
    "    else:\n",
    "        print(\"consonant\",l)\n",
    "else:\n",
    "    print(\"Enter a valid number:\",l)"
   ]
  },
  {
   "cell_type": "code",
   "execution_count": 21,
   "id": "8899cb4b-106a-4543-acb2-4b36b86b3fa0",
   "metadata": {},
   "outputs": [
    {
     "name": "stdin",
     "output_type": "stream",
     "text": [
      " 3\n",
      " 4\n"
     ]
    },
    {
     "name": "stdout",
     "output_type": "stream",
     "text": [
      "7\n"
     ]
    }
   ],
   "source": [
    "a=int(input())\n",
    "b=int(input())\n",
    "n=a+b\n",
    "print(n)"
   ]
  },
  {
   "cell_type": "code",
   "execution_count": null,
   "id": "11f2b449-150b-4b84-a80e-7bd8646ec9ec",
   "metadata": {},
   "outputs": [],
   "source": []
  }
 ],
 "metadata": {
  "kernelspec": {
   "display_name": "Python 3 (ipykernel)",
   "language": "python",
   "name": "python3"
  },
  "language_info": {
   "codemirror_mode": {
    "name": "ipython",
    "version": 3
   },
   "file_extension": ".py",
   "mimetype": "text/x-python",
   "name": "python",
   "nbconvert_exporter": "python",
   "pygments_lexer": "ipython3",
   "version": "3.11.7"
  }
 },
 "nbformat": 4,
 "nbformat_minor": 5
}
