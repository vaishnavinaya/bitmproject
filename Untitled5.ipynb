{
 "cells": [
  {
   "cell_type": "code",
   "execution_count": 2,
   "id": "78ba5c15-acac-4985-9b89-fa5ccf9f7ef4",
   "metadata": {},
   "outputs": [
    {
     "name": "stdin",
     "output_type": "stream",
     "text": [
      " 0\n",
      " 8\n",
      " 8\n",
      " 8\n",
      " 10\n",
      " 6\n",
      " 0\n"
     ]
    },
    {
     "name": "stdout",
     "output_type": "stream",
     "text": [
      "4030\n"
     ]
    }
   ],
   "source": [
    "su=int(input())\n",
    "m=int(input())\n",
    "t=int(input())\n",
    "w=int(input())\n",
    "th=int(input())\n",
    "f=int(input())\n",
    "sa=int(input())\n",
    "r1=150*su\n",
    "if(m<=8):\n",
    "    r2=m*100\n",
    "else:\n",
    "    r2=8*100+(m-8)*115\n",
    "if(t<=8):\n",
    "    r3=t*100\n",
    "else:\n",
    "    r3=8*100+(t-8)*115\n",
    "if(w<=8):\n",
    "    r4=w*100\n",
    "else:\n",
    "    r4=8*100+(w-8)*115\n",
    "if(th<=8):\n",
    "    r5=th*100\n",
    "else:\n",
    "    r5=8*100+(th-8)*115\n",
    "if(f<=8):\n",
    "    r6=f*100\n",
    "else:\n",
    "    r6=8*100+(f-8)*115\n",
    "r7=125*sa\n",
    "print(r1+r2+r3+r4+r5+r6+r7)"
   ]
  },
  {
   "cell_type": "code",
   "execution_count": null,
   "id": "2ca22048-add6-44a7-b0ed-0f155790626d",
   "metadata": {},
   "outputs": [],
   "source": [
    "Ravi along with his frnds decided to open castle black and later it was found to be a hotel and the hotel was \n",
    "flourshing and their was high demand for that so ravi decided to modify the tarrif accordingly so write a program \n",
    "to calculate the hotel tarrif.The room rent is 20% high in peak season \n",
    "peak season - april to june and november to december.\n",
    "sample i/p\n",
    "3    numb of month\n",
    "1500 amount per day\n",
    "2    total numb of days stayed in hotel"
   ]
  },
  {
   "cell_type": "code",
   "execution_count": 6,
   "id": "15e3204d-57f8-4a7b-98db-7e5ca75261bd",
   "metadata": {},
   "outputs": [
    {
     "name": "stdin",
     "output_type": "stream",
     "text": [
      " 3\n",
      " 1500\n",
      " 2\n"
     ]
    },
    {
     "name": "stdout",
     "output_type": "stream",
     "text": [
      "3000\n"
     ]
    }
   ],
   "source": [
    "a=int(input())\n",
    "b=int(input())\n",
    "c=int(input())\n",
    "if(a==4 or a==5 or a==6 or a==7 or a==12 or a==11):\n",
    "    print((b*c)+((b*c)*20)//100)\n",
    "else:\n",
    "    print(b*c)"
   ]
  },
  {
   "cell_type": "code",
   "execution_count": null,
   "id": "6b107e1a-6c5e-47f1-a042-0ddd457c2d77",
   "metadata": {},
   "outputs": [],
   "source": [
    "Doremon wanted climb mango trees in his garden and he climbed a mango tree only in 1st row 1st column and last\n",
    "column and the garden is in the shape of rectangle and he numbered the trees in row wise order now yr task is to\n",
    "find out weather the given tree number is mango tree or not"
   ]
  },
  {
   "cell_type": "code",
   "execution_count": 11,
   "id": "ca6002b3-3419-4914-9324-34b0684c6316",
   "metadata": {},
   "outputs": [
    {
     "name": "stdin",
     "output_type": "stream",
     "text": [
      " 1\n",
      " 1\n",
      " 3\n"
     ]
    },
    {
     "name": "stdout",
     "output_type": "stream",
     "text": [
      "enter a valid input\n"
     ]
    }
   ],
   "source": [
    "r=int(input())\n",
    "c=int(input())\n",
    "tn=int(input())\n",
    "if(tn<=(r*c)):\n",
    "    if(tn<=c or tn%c==1 or tn%c==0):\n",
    "        print(\"mango tree\")\n",
    "    else:\n",
    "        print(\"not a mango tree\")\n",
    "else:\n",
    "    print(\"enter a valid input\")"
   ]
  },
  {
   "cell_type": "code",
   "execution_count": null,
   "id": "f0ffb14f-6c50-4600-a9c5-e49adc6c5d0d",
   "metadata": {},
   "outputs": [],
   "source": [
    "praveen is crazy about ipl. he was watching chennai vs rcb final match chennai won the toss and elected to bat first they\n",
    "finished batting with a score of x, next rcb started to bat and scored y runs in n number of balls.now praveen wants to\n",
    "calculate run rate and check whether there is a probability for rcb to win or not, help him to calculate the run rate\n",
    "and check the probability.\n",
    "i/p            o/p\n",
    "300            50\n",
    "375            7.3\n",
    "78             10.7\n",
    "45             7.5     \n",
    "               eligible to win"
   ]
  },
  {
   "cell_type": "code",
   "execution_count": 23,
   "id": "3c438aab-88d6-4569-a0db-fb121fc2e1f7",
   "metadata": {},
   "outputs": [
    {
     "name": "stdin",
     "output_type": "stream",
     "text": [
      " 300\n",
      " 375\n",
      " 78\n",
      " 45\n"
     ]
    },
    {
     "name": "stdout",
     "output_type": "stream",
     "text": [
      "50\n",
      "7.3\n",
      "10.7\n",
      "7.5\n",
      "eligible to win\n"
     ]
    }
   ],
   "source": [
    "p=int(input())\n",
    "q=int(input())\n",
    "r=int(input())\n",
    "s=int(input())\n",
    "ttlover=p//6\n",
    "numofover=s//6+(s%6)*0.1\n",
    "crunrate=r/numofover\n",
    "trunrate=q/ttlover\n",
    "print(ttlover)\n",
    "print(numofover)\n",
    "print(\"{:.1f}\".format(crunrate))\n",
    "print(trunrate)\n",
    "if(crunrate>trunrate):\n",
    "    print(\"eligible to win\")\n",
    "else:\n",
    "    print(\"not eligible to win\")"
   ]
  },
  {
   "cell_type": "code",
   "execution_count": null,
   "id": "40416e06-effa-46d9-b88d-5879473f72a4",
   "metadata": {},
   "outputs": [],
   "source": [
    "write a program to print multiplication of a table\n",
    "i/p       0/p\n",
    "5         5*1=5\n",
    "10        5*10=50"
   ]
  },
  {
   "cell_type": "code",
   "execution_count": null,
   "id": "7b6572c3-2564-4c50-999f-505fd8696008",
   "metadata": {},
   "outputs": [],
   "source": [
    "for n in range(1,11):\n",
    "    print(n)"
   ]
  },
  {
   "cell_type": "code",
   "execution_count": null,
   "id": "1748a8bf-6dfc-4d77-8b84-bc9e409311f8",
   "metadata": {},
   "outputs": [],
   "source": [
    "for n in range(1,11):\n",
    "    print(n)"
   ]
  },
  {
   "cell_type": "code",
   "execution_count": null,
   "id": "f2060d94-e8e1-467e-a4a0-9c1c978c767b",
   "metadata": {},
   "outputs": [],
   "source": []
  }
 ],
 "metadata": {
  "kernelspec": {
   "display_name": "Python 3 (ipykernel)",
   "language": "python",
   "name": "python3"
  },
  "language_info": {
   "codemirror_mode": {
    "name": "ipython",
    "version": 3
   },
   "file_extension": ".py",
   "mimetype": "text/x-python",
   "name": "python",
   "nbconvert_exporter": "python",
   "pygments_lexer": "ipython3",
   "version": "3.11.7"
  }
 },
 "nbformat": 4,
 "nbformat_minor": 5
}
