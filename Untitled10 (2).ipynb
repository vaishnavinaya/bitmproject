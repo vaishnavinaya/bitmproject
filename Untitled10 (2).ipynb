{
 "cells": [
  {
   "cell_type": "code",
   "execution_count": null,
   "id": "1d2b0c46-b9c0-4e1a-98bc-1ec09e77ac03",
   "metadata": {},
   "outputs": [],
   "source": [
    "POLYMORPHISM"
   ]
  },
  {
   "cell_type": "code",
   "execution_count": null,
   "id": "6cdbfadd-f5e8-4bda-b515-c4ba94b77c02",
   "metadata": {},
   "outputs": [],
   "source": [
    "polymorphism is a concept of having a same method names in two differnt classes and it will perform diff tasks assigned\n",
    "in a particular class"
   ]
  },
  {
   "cell_type": "code",
   "execution_count": 2,
   "id": "0809f878-edea-4a8b-b564-034cfc35e3f3",
   "metadata": {
    "scrolled": true
   },
   "outputs": [
    {
     "name": "stdout",
     "output_type": "stream",
     "text": [
      "new delhi is the capital of india\n",
      "hindi is the most widely spoken language in india\n",
      "india is a developing country\n",
      "washington ,D.C. is the capital of USA\n",
      "english is the primary language of USA\n",
      "USA is a developed country\n"
     ]
    }
   ],
   "source": [
    "class india():\n",
    "    def capital(self):\n",
    "        print(\"new delhi is the capital of india\")\n",
    "\n",
    "    def language(self):\n",
    "        print(\"hindi is the most widely spoken language in india\")\n",
    "\n",
    "    def type(self):\n",
    "        print(\"india is a developing country\")\n",
    "\n",
    "class USA():\n",
    "    def capital(self):\n",
    "        print(\"washington ,D.C. is the capital of USA\")\n",
    "\n",
    "    def language(self):\n",
    "        print(\"english is the primary language of USA\")\n",
    "\n",
    "    def type(self):\n",
    "        print(\"USA is a developed country\")\n",
    "\n",
    "obj_ind=india()\n",
    "obj_USA=USA()\n",
    "for country in (obj_ind, obj_USA):\n",
    "    country.capital()\n",
    "    country.language()\n",
    "    country.type()"
   ]
  },
  {
   "cell_type": "code",
   "execution_count": 7,
   "id": "afb11f57-3298-4c5d-a3af-be1488641eae",
   "metadata": {},
   "outputs": [
    {
     "name": "stdout",
     "output_type": "stream",
     "text": [
      "cherry is a red color fruit\n",
      "mango is a yellow color fruit\n",
      "orange is a orange colored fruit\n",
      "tomato is a red color vegetable\n",
      "lemon is yellow color vegetable\n",
      "carrot is a orange colored vegetable\n"
     ]
    }
   ],
   "source": [
    "class fruits():\n",
    "    def red(self):\n",
    "        print(\"cherry is a red color fruit\")\n",
    "\n",
    "    def yellow(self):\n",
    "        print(\"mango is a yellow color fruit\")\n",
    "\n",
    "    def orange(self):\n",
    "        print(\"orange is a orange colored fruit\")\n",
    "\n",
    "class vegetables():\n",
    "    def red(self):\n",
    "        print(\"tomato is a red color vegetable\")\n",
    "\n",
    "    def yellow(self):\n",
    "        print(\"lemon is yellow color vegetable\")\n",
    "\n",
    "    def orange(self):\n",
    "        print(\"carrot is a orange colored vegetable\")\n",
    "\n",
    "o_f=fruits()\n",
    "o_v=vegetables()\n",
    "for i in (o_f, o_v):\n",
    "    i.red()\n",
    "    i.yellow()\n",
    "    i.orange()"
   ]
  },
  {
   "cell_type": "code",
   "execution_count": null,
   "id": "5f253962-ca8d-4125-945f-cc2a9511b3e8",
   "metadata": {},
   "outputs": [],
   "source": [
    "LINKED LIST"
   ]
  },
  {
   "cell_type": "code",
   "execution_count": null,
   "id": "0ef46e35-ae6d-4c50-8b85-93a82d3a1831",
   "metadata": {},
   "outputs": [],
   "source": [
    "A linked list is a type of linear data structure which is similar to arrays. it is a collection of nodes that are linked with each other.\n",
    "A node contains two things\n",
    "1.data\n",
    "2.the link which will connect with other node(address).\n",
    "now below is an example of linked list with 4nodes and each node contains integer data and a link to connect with another node.\n",
    "our first node is with our head point and there we can access all of the elements using the head address"
   ]
  },
  {
   "cell_type": "code",
   "execution_count": 16,
   "id": "ddafd90e-4647-415d-91f0-90585cba14a7",
   "metadata": {},
   "outputs": [
    {
     "name": "stdout",
     "output_type": "stream",
     "text": [
      "a\n",
      "b\n",
      "c\n",
      "d\n",
      "after rmoving nodes\n",
      "c\n"
     ]
    }
   ],
   "source": [
    "class Node:\n",
    "    def __init__(self,data):\n",
    "        self.data=data\n",
    "        self.next=None\n",
    "class LinkedList:\n",
    "     def __init__(self):\n",
    "        self.head=None\n",
    "         \n",
    "     def InsertAtBegin(self,data):\n",
    "        new_node=Node(data)\n",
    "        if self.head is None:\n",
    "            self.head=new_node\n",
    "            return\n",
    "        else:\n",
    "            new_node.next=self.head\n",
    "            self.head=new_node\n",
    "     def InsertAtIndex(self,data,index):\n",
    "        new_node=Node(data)\n",
    "        current_node=self.head\n",
    "        position=0\n",
    "        if position == index:\n",
    "            self.InserAtBegin(data)\n",
    "        else:\n",
    "            while(current_node != None and position+1 != index):\n",
    "                position=position+1\n",
    "                current_node=current_node.next\n",
    "                if current_node !=None:\n",
    "                    new_node.next=current_node.next\n",
    "                    current_node.next=new_node\n",
    "                else:\n",
    "                    print(\"index not present\")\n",
    "     def insertAtEnd(self,data):\n",
    "         new_node=Node(data)\n",
    "         if self.head is None:\n",
    "            self.head=new_node\n",
    "            return\n",
    "         current_node=self.head\n",
    "         while(current_node.next):\n",
    "            current_node=current_node.next\n",
    "         current_node.next=new_node\n",
    "     def updateNode(self,val,index):\n",
    "        current_node=self.head\n",
    "        position=0\n",
    "        if position == index:\n",
    "             current_node.data=val\n",
    "        else:\n",
    "            while(current_node !=None,position !=index):\n",
    "                 position=position+1\n",
    "                 current_node=current_node.next\n",
    "                 if(current_node !=None):\n",
    "                     current_node.data=val\n",
    "                 else:\n",
    "                    print(\"index not present\")\n",
    "     def remove_first_node(self):\n",
    "        if(self.head == None):\n",
    "            return\n",
    "        self.head=self.head.next\n",
    "     def remove_last_node(self):\n",
    "        if self.head is None:\n",
    "            return\n",
    "        current_node=self.head\n",
    "        while(current_node.next.next):\n",
    "            current_node=current_node.next\n",
    "        current_node.next =None\n",
    "     def printLL(self):\n",
    "        current_node=self.head\n",
    "        while(current_node):\n",
    "            print(current_node.data)\n",
    "            current_node=current_node.next\n",
    "llist=LinkedList()\n",
    "llist.insertAtEnd('a')\n",
    "llist.insertAtEnd('b')\n",
    "llist.insertAtEnd('c')\n",
    "llist.insertAtEnd('d')\n",
    "llist.printLL()\n",
    "llist.remove_first_node()\n",
    "llist.remove_last_node()\n",
    "llist.remove_first_node()\n",
    "print(\"after rmoving nodes\")\n",
    "llist.printLL()"
   ]
  },
  {
   "cell_type": "code",
   "execution_count": null,
   "id": "2b2a3766-bf36-4327-af98-78bc271eb7ac",
   "metadata": {},
   "outputs": [],
   "source": [
    "DOUBLY LINKED LIST"
   ]
  },
  {
   "cell_type": "code",
   "execution_count": null,
   "id": "573c2794-7ea5-4184-8fff-7c5a33947483",
   "metadata": {},
   "outputs": [],
   "source": [
    "a double linked list is a collection of nodes and it can access the features of a single linked list and in doubly linked list a node as 3 parts \n",
    "1st part will store the address of previous node\n",
    "2nd part will store element \n",
    "3rd part will store the address of next node"
   ]
  },
  {
   "cell_type": "code",
   "execution_count": 3,
   "id": "b4eafe7a-b02a-4b35-a814-bd11b4936243",
   "metadata": {},
   "outputs": [
    {
     "name": "stdout",
     "output_type": "stream",
     "text": [
      "List after inserting node at begining:\n",
      "30\n",
      "20\n",
      "10\n",
      "\n",
      "List after deleting node from begining:\n",
      "20\n",
      "10\n",
      "\n",
      "List is empty\n",
      "linked list after deleting\n",
      "List is empty\n"
     ]
    }
   ],
   "source": [
    "    class Node:\n",
    "        def __init__(self,data=None):\n",
    "            self.data = data\n",
    "            self.next = None\n",
    "            self.prev = None\n",
    "    \n",
    "    class DoublyLInkedList:\n",
    "        def __init__(self):\n",
    "            self.head = None\n",
    "    \n",
    "        def insert_at_begin(self,data):\n",
    "            new_node = Node(data)\n",
    "            if self.head is None:\n",
    "                self.head = new_node\n",
    "            else:\n",
    "                self.head.prev = new_node\n",
    "                new_node.next = self.head\n",
    "                self.head = new_node\n",
    "                \n",
    "        def delete_at_begin(self):\n",
    "            if self.head is None:\n",
    "                print(\"List is empty\")\n",
    "                return\n",
    "            elif self.head.next is None:\n",
    "                self.head = None\n",
    "            else:\n",
    "                self.head = self.head.next\n",
    "                self.head.prev = None\n",
    "    \n",
    "        def print_list(self):\n",
    "            if self.head is None:\n",
    "                print(\"List is empty\")\n",
    "                return\n",
    "            curr = self.head\n",
    "            while(curr != None):\n",
    "                print(curr.data)\n",
    "                curr = curr.next\n",
    "    \n",
    "            print()\n",
    "    obj=DoublyLInkedList()\n",
    "    obj.insert_at_begin(10)\n",
    "    obj.insert_at_begin(20)\n",
    "    obj.insert_at_begin(30)\n",
    "    \n",
    "    print(\"List after inserting node at begining:\")\n",
    "    obj.print_list()\n",
    "    \n",
    "    obj.delete_at_begin()\n",
    "    print(\"List after deleting node from begining:\")\n",
    "    obj.print_list()\n",
    "    obj.delete_at_begin()\n",
    "    obj.delete_at_begin()\n",
    "    obj.delete_at_begin()\n",
    "    print(\"linked list after deleting\")\n",
    "    obj.print_list()\n"
   ]
  },
  {
   "cell_type": "code",
   "execution_count": null,
   "id": "de8b59fe-7d7c-4f17-a82d-d9d6ff1dc462",
   "metadata": {},
   "outputs": [],
   "source": [
    "CIRCULAR LINKED LIST"
   ]
  },
  {
   "cell_type": "code",
   "execution_count": null,
   "id": "71542dcd-712b-4fb8-8d34-8642fcc6e817",
   "metadata": {},
   "outputs": [],
   "source": [
    "Is a type of linked list where all loads r connceted to form a circle .In a circular linked list\n",
    "the 1st node and the last nodes r connected to each other to form a cycle of cirular rotations and the list no null adress at the end\n",
    "TYPES OF CIRCULAR LINKED LIST\n",
    "There r two types in circular linked list\n",
    " 1:CIRCULAR SINGLY LINKED LIST\n",
    " in a circular singly linked list the last node of a list contains a pointer to 1st load of the list ans they can able to traverse the singly linked list\n",
    "until we reach the same node where we started.The circular linked list as no begining and end.there  is no null value present in nxt part of the nodes\n",
    "2: CIRCULAR DOUBLY LINKED LIST\n",
    "in a circular doubly linked list it will contain both the properties of doubly and circular linked list and in which consecutive elements r connected or\n",
    " linked by the previous or nxt pointer and the last node points the 1st node by the nxt pointer and also the 1st node points the last nodes by the\n",
    "previous pointer "
   ]
  },
  {
   "cell_type": "code",
   "execution_count": 8,
   "id": "4719e55a-2e79-4714-8539-cce5edfdf356",
   "metadata": {},
   "outputs": [
    {
     "name": "stdout",
     "output_type": "stream",
     "text": [
      "List Before Deletion: \n",
      "10 8 7 5 2 \n"
     ]
    }
   ],
   "source": [
    "class Node:\n",
    "    def __init__(self, data):\n",
    "        self.data = data\n",
    "        self.next = None\n",
    "#Function to insert a node at the\n",
    "#begining of a circular linked list\n",
    "def push(head, data):\n",
    "    #create a new node and make head as next of it.\n",
    "    newP = Node(data)\n",
    "    newP.next = head\n",
    "\n",
    "    #If linked list is not NULL then\n",
    "    #set the next of last node\n",
    "    if head != None:\n",
    "        #Find the node before head and\n",
    "        #update next of it.\n",
    "        temp = head\n",
    "        while (temp.next != head):\n",
    "            temp = temp.next\n",
    "        temp.next = newP\n",
    "    else:\n",
    "        newP.next = newP\n",
    "    head = newP\n",
    "    return head\n",
    "def printList(head):\n",
    "    if head == None:\n",
    "        print(\"List is Empty\")\n",
    "        return\n",
    "    temp = head.next\n",
    "    print(head.data, end=' ')\n",
    "    if (head != None):\n",
    "        while (temp != head):\n",
    "            print(temp.data, end=\" \")\n",
    "            temp = temp.next\n",
    "    print()\n",
    "def deleteNode(head, key):\n",
    "    if (head == None):\n",
    "        return\n",
    "\n",
    "    #If the list contains only a\n",
    "    #single node\n",
    "    if (head.data == key and head.next == head):\n",
    "        head = None\n",
    "        return\n",
    "\n",
    "    last = head\n",
    "    if (head.data == key):\n",
    "        while(last.next != head):\n",
    "            last = last.next\n",
    "        last.next = head.next\n",
    "        head = last.next\n",
    "        return\n",
    "    while (last.next != head and last.next.data != key):\n",
    "        last = last.next\n",
    "\n",
    "    if(last.next.data == key):\n",
    "        d = last.next\n",
    "        last.next = d.next\n",
    "        d = None\n",
    "    else:\n",
    "        print(\"Given node is not found in the list!!!\")\n",
    "\n",
    "head = None\n",
    "head = push(head, 2)\n",
    "head = push(head, 5)\n",
    "head = push(head, 7)\n",
    "head = push(head, 8)\n",
    "head = push(head, 10)\n",
    "print(\"List Before Deletion: \")\n",
    "printList(head)\n",
    "deleteNode(head,2)"
   ]
  },
  {
   "cell_type": "code",
   "execution_count": null,
   "id": "4fb44110-a98b-419a-a4c9-9f5259c3d3c1",
   "metadata": {},
   "outputs": [],
   "source": [
    "STACK"
   ]
  },
  {
   "cell_type": "code",
   "execution_count": null,
   "id": "b585614e-b0ea-405a-9beb-5a9ec459af54",
   "metadata": {},
   "outputs": [],
   "source": [
    "a stack is a linear data structure that stores items or elements in a last in first out order or first in last out \n",
    "in stack a new element is added at one end and the element can be removed from another end only \n",
    "in stack the insert and the delete is called as push and pop"
   ]
  },
  {
   "cell_type": "code",
   "execution_count": null,
   "id": "ca0b156f-a8b2-4b79-a68f-30f0781ba50a",
   "metadata": {},
   "outputs": [],
   "source": [
    "OPERATIONS IN STACK"
   ]
  },
  {
   "cell_type": "code",
   "execution_count": null,
   "id": "3170a927-6026-4948-a852-4132e456feb1",
   "metadata": {},
   "outputs": [],
   "source": [
    "                                      social\n",
    "   push                                science         top=3             pop\n",
    "deleting and element                   chemistry                    deleting and element\n",
    "                                       maths \n",
    "\n",
    "empty():- returns whether the fusnction is empty or not\n",
    "size():-  returns the size of the stack\n",
    "top():-top refers to the top most element in the stack  \n",
    "push():-fuction refers to push the elment into the stack\n",
    "pop():-fuction refers to delete the top most elment from the stack"
   ]
  },
  {
   "cell_type": "code",
   "execution_count": 11,
   "id": "404d1df9-1f7e-43af-a390-14b9014082bc",
   "metadata": {},
   "outputs": [
    {
     "name": "stdout",
     "output_type": "stream",
     "text": [
      "Stack:<__main__.Stack object at 0x00000225D9DBCA10>\n",
      "pop:None\n",
      "pop:None\n",
      "pop:None\n",
      "pop:None\n",
      "pop:None\n",
      "Stack:<__main__.Stack object at 0x00000225D9DBCA10>\n"
     ]
    }
   ],
   "source": [
    "class Node:\n",
    "    def __init__(self,value):\n",
    "        self.value=value\n",
    "        self.next=None\n",
    "class Stack:\n",
    "    def __init__(self):\n",
    "        self.head=Node(\"head\")\n",
    "        self.size=0\n",
    "    def _str_(self):\n",
    "        cur=self.head.next\n",
    "        out=\"\"\n",
    "        while cur:\n",
    "            out=out+str(cur.value)+\"->\"\n",
    "            cur=cur.next\n",
    "        return out[:-2]\n",
    "    def getsize(self):\n",
    "        return self.size\n",
    "    def isEmpty(self):\n",
    "        return self.size==0\n",
    "    def peek(self):\n",
    "        if self.isEmpty():\n",
    "            raise Exception(\"stack underflow\")\n",
    "        return self.head.next.value\n",
    "    def push(self,value):\n",
    "        node=Node(value)\n",
    "        node.next=self.head\n",
    "        self.head=node\n",
    "        self.size+=1\n",
    "    def pop(self):\n",
    "        if self.isEmpty():\n",
    "            raise Exception(\"stack underflow\")\n",
    "        remove=self.head.next\n",
    "        self.head.next=self.head.next.next\n",
    "        self.size-=1\n",
    "if __name__==\"__main__\":\n",
    "    stack=Stack()\n",
    "    for i in range(1,11):\n",
    "       stack.push(i)\n",
    "    print(f\"Stack:{stack}\")\n",
    "    for _ in range(1,6):\n",
    "        remove=stack.pop()\n",
    "        print(f\"pop:{remove}\")\n",
    "    print(f\"Stack:{stack}\")"
   ]
  },
  {
   "cell_type": "code",
   "execution_count": 17,
   "id": "c9ab4c5a-cf73-4c41-a1f8-fdb676cbc39b",
   "metadata": {},
   "outputs": [
    {
     "name": "stdin",
     "output_type": "stream",
     "text": [
      " 3\n",
      " 2\n",
      " 4\n",
      " 5\n"
     ]
    },
    {
     "name": "stdout",
     "output_type": "stream",
     "text": [
      "initial stack\n",
      "['2', '4', '5']\n",
      "\n",
      " elements popped from a stack:\n",
      "5\n",
      "4\n",
      "\n",
      " stack after elements are popped:\n",
      "['2']\n"
     ]
    }
   ],
   "source": [
    "stack = []\n",
    "n=int(input())\n",
    "i=0\n",
    "while(i<n):\n",
    "    stack.append(input())\n",
    "    i=i+1\n",
    "print('initial stack')\n",
    "print(stack)\n",
    "print('\\n elements popped from a stack:')\n",
    "print(stack.pop())\n",
    "print(stack.pop())\n",
    "print('\\n stack after elements are popped:')\n",
    "print(stack)"
   ]
  },
  {
   "cell_type": "code",
   "execution_count": 23,
   "id": "8c007644-ef0c-4017-a93d-8cebe8376ac9",
   "metadata": {},
   "outputs": [
    {
     "name": "stdin",
     "output_type": "stream",
     "text": [
      " 7\n",
      " 6\n"
     ]
    },
    {
     "name": "stdout",
     "output_type": "stream",
     "text": [
      "13\n",
      "1\n",
      "42\n"
     ]
    }
   ],
   "source": [
    "if __name__ == '__main__':\n",
    "    a = int(input())\n",
    "    b = int(input())\n",
    "    sum=a+b\n",
    "    dif=a-b\n",
    "    prod=a*b\n",
    "    print(sum)\n",
    "    print(dif)\n",
    "    print(prod)"
   ]
  },
  {
   "cell_type": "code",
   "execution_count": null,
   "id": "d8d8730a-e1bf-4633-9495-b866a35da4bd",
   "metadata": {},
   "outputs": [],
   "source": [
    "QUEUE"
   ]
  },
  {
   "cell_type": "code",
   "execution_count": null,
   "id": "59ff6bb6-8999-471a-a71a-cad760cddee8",
   "metadata": {},
   "outputs": [],
   "source": [
    "Queue is a linear data structure that stores elements in a first in first out manner\n",
    "with a queue the least recently element will be removed first\n",
    "a good example of queue you can take a ticket counter "
   ]
  },
  {
   "cell_type": "code",
   "execution_count": null,
   "id": "2cd451c5-6b1e-4ee8-bd04-79c9618b2a89",
   "metadata": {},
   "outputs": [],
   "source": [
    "OPERATIONS IN QUEUE"
   ]
  },
  {
   "cell_type": "code",
   "execution_count": null,
   "id": "5399d805-2335-44f0-be4e-3b95e9a42d95",
   "metadata": {},
   "outputs": [],
   "source": [
    "->NQUEUE - adds an item into the queue and if the queue is full it will return an overflow condition\n",
    "->DEQUEUE - to remove an element from the queue and the items are poped in a same manner which they are pushed\n",
    "when the queue is written in empty condition it is saod to be an underflow condition"
   ]
  },
  {
   "cell_type": "code",
   "execution_count": 1,
   "id": "d80067f0-a561-4f8f-96b2-a7f1def8e12a",
   "metadata": {},
   "outputs": [
    {
     "name": "stdout",
     "output_type": "stream",
     "text": [
      "Initial queue\n",
      "['a', 'b', 'c', 'd']\n",
      "\n",
      "Elements dequeued from queue\n",
      "a\n",
      "b\n",
      "c\n",
      "\n",
      "Queue after removing elements\n",
      "['d']\n"
     ]
    }
   ],
   "source": [
    "queue = []\n",
    "queue.append('a')\n",
    "queue.append('b')\n",
    "queue.append('c')\n",
    "queue.append('d')\n",
    "print(\"Initial queue\")\n",
    "print(queue)\n",
    "print(\"\\nElements dequeued from queue\")\n",
    "print(queue.pop(0))\n",
    "print(queue.pop(0))\n",
    "print(queue.pop(0))\n",
    "print(\"\\nQueue after removing elements\")\n",
    "print(queue)"
   ]
  },
  {
   "cell_type": "code",
   "execution_count": 2,
   "id": "60f020c2-e99d-4582-9c23-574d347c19d3",
   "metadata": {},
   "outputs": [
    {
     "name": "stdout",
     "output_type": "stream",
     "text": [
      "initial queue\n",
      "['a', 'b', 'c', 'd']\n",
      "\n",
      " elements dequeued from queue\n",
      "a\n",
      "b\n",
      "c\n",
      "\n",
      " queue after removing elements\n",
      "['d']\n"
     ]
    }
   ],
   "source": [
    "queue =[]\n",
    "queue.append('a')\n",
    "queue.append('b')\n",
    "queue.append('c')\n",
    "queue.append('d')\n",
    "print(\"initial queue\")\n",
    "print(queue)\n",
    "print(\"\\n elements dequeued from queue\")\n",
    "print(queue.pop(0))\n",
    "print(queue.pop(0))\n",
    "print(queue.pop(0))\n",
    "print(\"\\n queue after removing elements\")\n",
    "print(queue)"
   ]
  },
  {
   "cell_type": "code",
   "execution_count": 3,
   "id": "ebe78a82-b4a9-441d-a2d4-a183f58d5df6",
   "metadata": {},
   "outputs": [
    {
     "name": "stdout",
     "output_type": "stream",
     "text": [
      "initial queue\n",
      "deque(['a', 'b', 'c', 'd'])\n",
      "\n",
      " elements dequeued from queue\n",
      "a\n",
      "b\n",
      "c\n",
      "\n",
      " queue after removing elements\n",
      "deque(['d'])\n"
     ]
    }
   ],
   "source": [
    "from collections import deque\n",
    "q = deque()\n",
    "q.append('a')\n",
    "q.append('b')\n",
    "q.append('c')\n",
    "q.append('d')\n",
    "print(\"initial queue\")\n",
    "print(q)\n",
    "print(\"\\n elements dequeued from queue\")\n",
    "print(q.popleft())\n",
    "print(q.popleft())\n",
    "print(q.popleft())\n",
    "print(\"\\n queue after removing elements\")\n",
    "print(q)"
   ]
  },
  {
   "cell_type": "code",
   "execution_count": 1,
   "id": "d8d55c09-d2f3-42e7-bea0-f6045b774a91",
   "metadata": {},
   "outputs": [
    {
     "name": "stdout",
     "output_type": "stream",
     "text": [
      "\n",
      "Full: True\n",
      "\n",
      "Elements dequeued from the queue\n",
      "a\n",
      "b\n",
      "c\n",
      "\n",
      "Empty: True\n",
      "\n",
      "Empty:  False\n",
      "Full:  False\n"
     ]
    }
   ],
   "source": [
    "from queue import Queue\n",
    "q= Queue(maxsize =3)\n",
    "q.put('a')\n",
    "q.put('b')\n",
    "q.put('c')\n",
    "print(\"\\nFull:\", q.full())\n",
    "print(\"\\nElements dequeued from the queue\")\n",
    "print(q.get())\n",
    "print(q.get())\n",
    "print(q.get())\n",
    "print(\"\\nEmpty:\",q.empty())\n",
    "q.put(1)\n",
    "print(\"\\nEmpty: \",q.empty())\n",
    "print(\"Full: \",q.full())"
   ]
  },
  {
   "cell_type": "code",
   "execution_count": null,
   "id": "c2c3da0a-145d-4ef3-8c48-5fc2c28cd652",
   "metadata": {},
   "outputs": [],
   "source": []
  }
 ],
 "metadata": {
  "kernelspec": {
   "display_name": "Python 3 (ipykernel)",
   "language": "python",
   "name": "python3"
  },
  "language_info": {
   "codemirror_mode": {
    "name": "ipython",
    "version": 3
   },
   "file_extension": ".py",
   "mimetype": "text/x-python",
   "name": "python",
   "nbconvert_exporter": "python",
   "pygments_lexer": "ipython3",
   "version": "3.11.7"
  }
 },
 "nbformat": 4,
 "nbformat_minor": 5
}
