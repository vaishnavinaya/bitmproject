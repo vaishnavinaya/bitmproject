{
 "cells": [
  {
   "cell_type": "code",
   "execution_count": null,
   "id": "038adaff-1c64-40e2-82fd-a768bebaebf6",
   "metadata": {},
   "outputs": [],
   "source": [
    "u=float(input())\n",
    "if(u<=200):\n",
    "    u=u*0.50\n",
    "    print(\"rs:\",u)\n",
    "elif(u<=400):\n",
    "    \n",
    "    u=(u*0.65)+100\n",
    "    print(\"rs:\",u)\n",
    "elif(u<=600):\n",
    "    u=(u*0.80)+200\n",
    "    print(\"rs:\",u)\n",
    "else:\n",
    "    u=(u*1.25)+425\n",
    "    print(\"rs:\",u)"
   ]
  },
  {
   "cell_type": "code",
   "execution_count": null,
   "id": "21406eb4-d052-42d3-a101-70ece4fc3301",
   "metadata": {},
   "outputs": [],
   "source": []
  }
 ],
 "metadata": {
  "kernelspec": {
   "display_name": "Python 3 (ipykernel)",
   "language": "python",
   "name": "python3"
  },
  "language_info": {
   "codemirror_mode": {
    "name": "ipython",
    "version": 3
   },
   "file_extension": ".py",
   "mimetype": "text/x-python",
   "name": "python",
   "nbconvert_exporter": "python",
   "pygments_lexer": "ipython3",
   "version": "3.11.7"
  }
 },
 "nbformat": 4,
 "nbformat_minor": 5
}
