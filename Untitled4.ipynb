{
 "cells": [
  {
   "cell_type": "code",
   "execution_count": 1,
   "id": "57035c6b-6130-429e-822c-2445b8cb3248",
   "metadata": {},
   "outputs": [
    {
     "name": "stdin",
     "output_type": "stream",
     "text": [
      " 200\n"
     ]
    },
    {
     "name": "stdout",
     "output_type": "stream",
     "text": [
      "rs: 100.0\n"
     ]
    }
   ],
   "source": [
    "u=float(input())\n",
    "if(u<=200):\n",
    "    u=u*0.50\n",
    "    print(\"rs:\",u)\n",
    "elif(u<=400):\n",
    "    \n",
    "    u=(u*0.65)+100\n",
    "    print(\"rs:\",u)\n",
    "elif(u<=600):\n",
    "    u=(u*0.80)+200\n",
    "    print(\"rs:\",u)\n",
    "else:\n",
    "    u=(u*1.25)+425\n",
    "    print(\"rs:\",u)"
   ]
  },
  {
   "cell_type": "code",
   "execution_count": 6,
   "id": "45da4bc3-96f5-44a4-b7f8-00676e85d59a",
   "metadata": {},
   "outputs": [
    {
     "name": "stdin",
     "output_type": "stream",
     "text": [
      " 1234\n"
     ]
    },
    {
     "name": "stdout",
     "output_type": "stream",
     "text": [
      "1234 is not a leap year\n"
     ]
    }
   ],
   "source": [
    "year=int(input())\n",
    "if((year%4==0 and year%100!=0) or (year%400==0)):\n",
    "    print(year,\"is a leap year\")\n",
    "else:\n",
    "    print(year,\"is not a leap year\")"
   ]
  },
  {
   "cell_type": "code",
   "execution_count": 11,
   "id": "95359b8a-0002-4f66-92a2-3b853c5737fa",
   "metadata": {},
   "outputs": [
    {
     "name": "stdin",
     "output_type": "stream",
     "text": [
      " 1000\n",
      " 50\n",
      " 50\n",
      " 900\n",
      " 50\n",
      " 70\n",
      " 800\n",
      " 10\n",
      " 200\n"
     ]
    },
    {
     "name": "stdout",
     "output_type": "stream",
     "text": [
      "in Flipkart rs:  550\n",
      "in Snapdeal rs:  520\n",
      "in Amazon rs:  920\n",
      "choose snapdeal\n"
     ]
    }
   ],
   "source": [
    "p1=int(input())\n",
    "d1=int(input())\n",
    "s1=int(input())\n",
    "p2=int(input())\n",
    "d2=int(input())\n",
    "s2=int(input())\n",
    "p3=int(input())\n",
    "d3=int(input())\n",
    "s3=int(input())\n",
    "F=p1-(((p1*d1)//100))+s1\n",
    "S=p2-(((p2*d2)//100))+s2\n",
    "A=p3-(((p3*d3)//100))+s3\n",
    "print(\"in Flipkart rs: \",F)\n",
    "print(\"in Snapdeal rs: \",S)\n",
    "print(\"in Amazon rs: \",A)\n",
    "if(F<=S and F<=A):\n",
    "    print(\"choose flipkart\")\n",
    "elif(S<F and S<=A):\n",
    "    print(\"choose snapdeal\")\n",
    "else:\n",
    "    print(\"choose Amazon\")\n",
    "\n"
   ]
  },
  {
   "cell_type": "code",
   "execution_count": 19,
   "id": "e509cdd2-26ba-4f2a-bb65-689a9d4ecd78",
   "metadata": {},
   "outputs": [
    {
     "name": "stdin",
     "output_type": "stream",
     "text": [
      " 793\n"
     ]
    },
    {
     "name": "stdout",
     "output_type": "stream",
     "text": [
      "trendy number 793\n"
     ]
    }
   ],
   "source": [
    "x=int(input())\n",
    "if(((x%100)//10)%3==0):\n",
    "    print(\"trendy number\",x)\n",
    "else:\n",
    "    print(\"not a trendy number\",x)\n",
    "\n"
   ]
  },
  {
   "cell_type": "code",
   "execution_count": null,
   "id": "0c1c4501-0970-4cd8-8408-89ddb9d20f6e",
   "metadata": {},
   "outputs": [
    {
     "name": "stdin",
     "output_type": "stream",
     "text": [
      " 0\n",
      " 8\n",
      " 8\n"
     ]
    }
   ],
   "source": [
    "su=int(input())\n",
    "m=int(input())\n",
    "t=int(input())\n",
    "w=int(input())\n",
    "th=int(input())\n",
    "f=int(input())\n",
    "sa=int(input())\n",
    "r1=150*su\n",
    "if(m<=8):\n",
    "    r2=m*100\n",
    "else:\n",
    "    r2=8*100+(m-8)*115\n",
    "if(t<=8):\n",
    "    r3=t*100\n",
    "else:\n",
    "    r3=8*100+(t-8)*115\n",
    "if(w<=8):\n",
    "    r4=w*100\n",
    "else:\n",
    "    r4=8*100+(w-8)*115\n",
    "if(th<=8):\n",
    "    r5=th*100\n",
    "else:\n",
    "    r5=8*100+(th-8)*115\n",
    "if(f<=8):\n",
    "    r6=f*100\n",
    "else:\n",
    "    r6=8*100+(f-8)*115\n",
    "r7=125*sa\n",
    "print(r1+r2+r3+r4+r5+r6+r7)|"
   ]
  },
  {
   "cell_type": "code",
   "execution_count": null,
   "id": "a198d81f-2599-46c3-b8ea-b41e1b4d0a22",
   "metadata": {},
   "outputs": [],
   "source": []
  }
 ],
 "metadata": {
  "kernelspec": {
   "display_name": "Python 3 (ipykernel)",
   "language": "python",
   "name": "python3"
  },
  "language_info": {
   "codemirror_mode": {
    "name": "ipython",
    "version": 3
   },
   "file_extension": ".py",
   "mimetype": "text/x-python",
   "name": "python",
   "nbconvert_exporter": "python",
   "pygments_lexer": "ipython3",
   "version": "3.11.7"
  }
 },
 "nbformat": 4,
 "nbformat_minor": 5
}
