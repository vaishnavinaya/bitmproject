{
 "cells": [
  {
   "cell_type": "code",
   "execution_count": null,
   "id": "f8a0c7a3-8e4c-42c2-ac87-b5a584d6b675",
   "metadata": {},
   "outputs": [],
   "source": [
    "INHERITANCE"
   ]
  },
  {
   "cell_type": "code",
   "execution_count": null,
   "id": "db4be2af-3b8c-4939-92a5-826f7bc0efe8",
   "metadata": {},
   "outputs": [],
   "source": [
    "single level inheritance enhables a derived class to inherit properties from a single parent class. Thus enabling code reusability \n",
    "and addition of new features to existing code"
   ]
  },
  {
   "cell_type": "code",
   "execution_count": 2,
   "id": "904e7997-53e9-45ad-b31f-5d9da587e21b",
   "metadata": {},
   "outputs": [
    {
     "name": "stdout",
     "output_type": "stream",
     "text": [
      "we are in parent class\n",
      "we are in child class\n"
     ]
    }
   ],
   "source": [
    "class parent:\n",
    "    def a(self):\n",
    "        print(\"we are in parent class\")\n",
    "class child(parent):\n",
    "    def c(self):\n",
    "        print(\"we are in child class\")\n",
    "obj2=child()\n",
    "obj2.a()\n",
    "obj2.c()"
   ]
  },
  {
   "cell_type": "code",
   "execution_count": null,
   "id": "3c559555-132b-4309-9811-ea55025e0006",
   "metadata": {},
   "outputs": [],
   "source": [
    "MULTIPLE INHERITANCE"
   ]
  },
  {
   "cell_type": "code",
   "execution_count": null,
   "id": "d90b12cd-804c-4c2b-a34f-41e24172f02d",
   "metadata": {},
   "outputs": [],
   "source": [
    "when a class can be derived from more than one base class this type of inheritance is called multiple inheritance"
   ]
  },
  {
   "cell_type": "code",
   "execution_count": 7,
   "id": "360a028b-e13e-4c2a-9b90-79dde564c98d",
   "metadata": {},
   "outputs": [
    {
     "name": "stdout",
     "output_type": "stream",
     "text": [
      "we are in parent1 class\n",
      "we are in parent2 class\n",
      "we are in child class\n"
     ]
    }
   ],
   "source": [
    "class parent1:\n",
    "    def a(self):\n",
    "        print(\"we are in parent1 class\")\n",
    "class parent2:\n",
    "    def b(self):\n",
    "        print(\"we are in parent2 class\")\n",
    "class child(parent1,parent2):\n",
    "    def c(self):\n",
    "        print(\"we are in child class\")\n",
    "obj=child()\n",
    "obj.a()\n",
    "obj.b()\n",
    "obj.c()"
   ]
  },
  {
   "cell_type": "code",
   "execution_count": null,
   "id": "710654af-caf2-4f99-88a7-fbc18459ebd4",
   "metadata": {},
   "outputs": [],
   "source": [
    "MULTILEVEL INHERITANCE"
   ]
  },
  {
   "cell_type": "code",
   "execution_count": null,
   "id": "762bc0a3-a4df-4df1-8d5d-e682088e3bc9",
   "metadata": {},
   "outputs": [],
   "source": [
    "in multilevel inheritance features of base class and the derived class are further inherited into new derived \n",
    "class this is similar to a relationship representing a child and a grandfather"
   ]
  },
  {
   "cell_type": "code",
   "execution_count": 10,
   "id": "1e5e42f6-21ba-4ad6-88d2-20affca79dda",
   "metadata": {},
   "outputs": [
    {
     "name": "stdout",
     "output_type": "stream",
     "text": [
      "we are in grand father's class\n",
      "we are in father's class\n",
      "we are in son's class\n"
     ]
    }
   ],
   "source": [
    "class grandfather:\n",
    "    def grand(self):\n",
    "        print(\"we are in grand father's class\")\n",
    "class father(grandfather):\n",
    "    def dad(self):\n",
    "        print(\"we are in father's class\")\n",
    "class child (father):\n",
    "    def son(self):\n",
    "        print(\"we are in son's class\")\n",
    "o=child()\n",
    "o.grand()\n",
    "o.dad()\n",
    "o.son()\n"
   ]
  },
  {
   "cell_type": "code",
   "execution_count": null,
   "id": "b9593106-5cc7-4194-aad5-737fd7d6bc55",
   "metadata": {},
   "outputs": [],
   "source": [
    "HIERARCHIAL INHERITANCE"
   ]
  },
  {
   "cell_type": "code",
   "execution_count": null,
   "id": "5ce633a3-9118-4005-9507-b1bdda96bc70",
   "metadata": {},
   "outputs": [],
   "source": [
    "when more than one derived class are created from one base class. \n",
    "This type of inheritance is called as Hierarchial inheritance"
   ]
  },
  {
   "cell_type": "code",
   "execution_count": 14,
   "id": "a87c533a-7787-4f33-937f-d7cb529db004",
   "metadata": {},
   "outputs": [
    {
     "name": "stdout",
     "output_type": "stream",
     "text": [
      "we are in daughter1 class\n",
      "we are in father's class\n",
      "we are in daughter2 class\n",
      "we are in father's class\n",
      "we are in daughter3 class\n",
      "we are in father's class\n"
     ]
    }
   ],
   "source": [
    "class father:\n",
    "    def son(self):\n",
    "        print(\"we are in father's class\")\n",
    "class vaish(father):\n",
    "    def a(self):\n",
    "        print(\"we are in daughter1 class\")\n",
    "class vaishu(father):\n",
    "    def b(self):\n",
    "        print(\"we are in daughter2 class\")\n",
    "class vaishnu(father):\n",
    "    def c(self):\n",
    "        print(\"we are in daughter3 class\")\n",
    "o=vaish()\n",
    "p=vaishu()\n",
    "q=vaishnu()\n",
    "o.a()\n",
    "o.son()\n",
    "p.b()\n",
    "p.son()\n",
    "q.c()1\n",
    "q.son()"
   ]
  },
  {
   "cell_type": "code",
   "execution_count": null,
   "id": "f7049791-4561-48cb-a3dd-97bdaa1b4ad8",
   "metadata": {},
   "outputs": [],
   "source": [
    "HYBRID INHERITANCE"
   ]
  },
  {
   "cell_type": "code",
   "execution_count": null,
   "id": "52b289a9-1078-4b38-9bd6-dba83a55c33f",
   "metadata": {},
   "outputs": [],
   "source": [
    "Inheritance consisting of multiple types of inheritance is known as hybrid "
   ]
  },
  {
   "cell_type": "code",
   "execution_count": 27,
   "id": "a18c0d79-30f8-4ea0-8cdb-627a1abbd6be",
   "metadata": {},
   "outputs": [
    {
     "name": "stdout",
     "output_type": "stream",
     "text": [
      "class A\n",
      "class B\n",
      "class A\n",
      "class D\n",
      "class B\n",
      "class C\n",
      "class C\n",
      "class E\n",
      "class C\n",
      "class F\n"
     ]
    }
   ],
   "source": [
    "class A:\n",
    "    def a(self):\n",
    "        print(\"class A\")\n",
    "class B(A):\n",
    "    def b(self):\n",
    "        print(\"class B\")\n",
    "class D(A):\n",
    "    def d(self):\n",
    "        print(\"class D\")\n",
    "class C(B):\n",
    "    def c(self):\n",
    "        print(\"class C\")\n",
    "class E(C):\n",
    "    def e(self):\n",
    "        print(\"class E\")\n",
    "class F(C):\n",
    "    def f(self):\n",
    "        print(\"class F\")\n",
    "o1=B()\n",
    "o1.a()\n",
    "o1.b()\n",
    "o2=D()\n",
    "o2.a()\n",
    "o2.d()\n",
    "o3=C()\n",
    "o3.b()\n",
    "o3.c()\n",
    "o4=E()\n",
    "o4.c()\n",
    "o4.e()\n",
    "o5=F()\n",
    "o5.c()\n",
    "o5.f()"
   ]
  },
  {
   "cell_type": "code",
   "execution_count": null,
   "id": "df6fd077-753c-463c-907d-351ade4f91fc",
   "metadata": {},
   "outputs": [],
   "source": [
    "A busstop Que has n groups of people the ith group of people from the begining class a(i) members every 30 mints an empty bus arrives at the busstop \n",
    "it can carry at most m people in it naturally the people from the first group enters the first buss the goes the people from the second group and so on\n",
    "note that the order of groups in the que never waits for the next and joins with the other group now your task is to determine the numb of busses needed\n",
    "to transport all n groups of people\n",
    "sample i/p             sample o/p\n",
    "4 4                     4\n",
    "3 3 3 3"
   ]
  },
  {
   "cell_type": "code",
   "execution_count": 5,
   "id": "06e95ebb-73a5-44e1-9098-c102f53977eb",
   "metadata": {},
   "outputs": [
    {
     "name": "stdin",
     "output_type": "stream",
     "text": [
      " 5\n",
      " 5\n",
      " 4\n",
      " 4\n",
      " 4\n",
      " 4\n",
      " 4\n"
     ]
    },
    {
     "name": "stdout",
     "output_type": "stream",
     "text": [
      "5\n"
     ]
    }
   ],
   "source": [
    "n=int(input())\n",
    "m=int(input())\n",
    "list=[(int(input().strip())) for i in range (n)]\n",
    "sum=0\n",
    "bus=0\n",
    "for i in range(n):\n",
    "    if(sum+list[i]>m):\n",
    "        bus=bus+1\n",
    "        sum=list[i]\n",
    "    else:\n",
    "        sum=sum+list[i]\n",
    "if(sum>0): \n",
    "    bus=bus+1\n",
    "print(bus)"
   ]
  },
  {
   "cell_type": "code",
   "execution_count": null,
   "id": "4191e446-c930-43c5-a8f5-b633d8881388",
   "metadata": {},
   "outputs": [],
   "source": [
    "write a program using the concept of sinle level inheritance to print sum of two elements"
   ]
  },
  {
   "cell_type": "code",
   "execution_count": 15,
   "id": "4ab8d5ce-2f85-4473-963f-2ca724356606",
   "metadata": {},
   "outputs": [
    {
     "name": "stdin",
     "output_type": "stream",
     "text": [
      " 9\n",
      " 9\n"
     ]
    },
    {
     "name": "stdout",
     "output_type": "stream",
     "text": [
      "sum= 18\n"
     ]
    }
   ],
   "source": [
    "p=int(input())\n",
    "q=int(input())\n",
    "class A:\n",
    "    def a(self,p,q):\n",
    "        self.p=p\n",
    "        self.q=q\n",
    "        print(\"sum=\",self.p+self.q)\n",
    "class B(A):\n",
    "    def b(self):\n",
    "        print(\"you are in child class\")\n",
    "obj2=B()\n",
    "obj2.a(p,q)"
   ]
  },
  {
   "cell_type": "code",
   "execution_count": null,
   "id": "5af2546c-7125-48fc-9e2f-9718d57dc147",
   "metadata": {},
   "outputs": [],
   "source": [
    "write a program to print numbers of vowels in string\n",
    "sample i/p           sample o/p\n",
    "ballari                3"
   ]
  },
  {
   "cell_type": "code",
   "execution_count": 25,
   "id": "251c77f5-608c-4008-a490-014f17e9fb43",
   "metadata": {},
   "outputs": [
    {
     "name": "stdin",
     "output_type": "stream",
     "text": [
      " ballari\n"
     ]
    },
    {
     "name": "stdout",
     "output_type": "stream",
     "text": [
      "numbers of vowels= 3\n"
     ]
    }
   ],
   "source": [
    "s=input()\n",
    "c=0\n",
    "for char in s:\n",
    "    if(char=='a' or char=='e' or char=='i' or char=='o' or char=='u' or char=='A' or char=='E' or char=='I' or char=='O' or char=='U'):\n",
    "        c=c+1\n",
    "print(\"numbers of vowels=\",c)"
   ]
  },
  {
   "cell_type": "code",
   "execution_count": null,
   "id": "19be9131-f424-4372-b0ed-7195665647da",
   "metadata": {},
   "outputs": [],
   "source": [
    "write a program whether the given string is palindrome or not"
   ]
  },
  {
   "cell_type": "code",
   "execution_count": 44,
   "id": "61bf914e-bdd3-4796-be0f-8d20a01b68b6",
   "metadata": {},
   "outputs": [
    {
     "name": "stdin",
     "output_type": "stream",
     "text": [
      " ballari\n"
     ]
    },
    {
     "name": "stdout",
     "output_type": "stream",
     "text": [
      "not a palindrome\n"
     ]
    }
   ],
   "source": [
    "s=input()\n",
    "i=0\n",
    "n=len(s)-1\n",
    "while(i<n):\n",
    "    if(s[i]!=s[n]):\n",
    "        print(\"not a palindrome\")\n",
    "        break\n",
    "    i=i+1\n",
    "    n=n-1\n",
    "else:\n",
    "    print(\"palindrome\")\n",
    "        "
   ]
  },
  {
   "cell_type": "code",
   "execution_count": 31,
   "id": "36c2ccac-6e16-4937-9634-21937c12f243",
   "metadata": {},
   "outputs": [
    {
     "name": "stdin",
     "output_type": "stream",
     "text": [
      " wow\n"
     ]
    },
    {
     "name": "stdout",
     "output_type": "stream",
     "text": [
      "palindrome\n"
     ]
    }
   ],
   "source": [
    "a=input()\n",
    "if(a==a[:: -1]):\n",
    "    print(\"palindrome\")\n",
    "else:\n",
    "    print(\"not a palindrome\")"
   ]
  },
  {
   "cell_type": "code",
   "execution_count": null,
   "id": "ad79144f-d5be-4ffa-8e7a-b6f91f3b1663",
   "metadata": {},
   "outputs": [],
   "source": [
    "POLYMORPHISM"
   ]
  },
  {
   "cell_type": "code",
   "execution_count": 10,
   "id": "bdce8810-53aa-4613-a851-d2e23075ecd6",
   "metadata": {},
   "outputs": [
    {
     "name": "stdout",
     "output_type": "stream",
     "text": [
      "24\n",
      "18\n",
      "17.204\n"
     ]
    }
   ],
   "source": [
    "from multipledispatch import dispatch\n",
    "def product(first,second,third):\n",
    "    result=first*second*third\n",
    "    print(result)\n",
    "def product(first,second,third):\n",
    "    result=first*second*third\n",
    "    print(result)\n",
    "def product(first,second,third):\n",
    "    result=first*second*third\n",
    "    print(result)\n",
    "product(2,3,4)\n",
    "product(2,3,3)\n",
    "product(2.2,3.4,2.3)"
   ]
  },
  {
   "cell_type": "code",
   "execution_count": null,
   "id": "6321174f-cd9c-4394-aa97-cea205b6403b",
   "metadata": {},
   "outputs": [],
   "source": [
    "METHOD OVERLOADING"
   ]
  },
  {
   "cell_type": "code",
   "execution_count": null,
   "id": "0ec5cc11-2272-4549-a707-ba1abd738753",
   "metadata": {},
   "outputs": [],
   "source": [
    "whenever the function name is declared same in both the inherited classes (base class and child class) and \n",
    "which is having different types of parameters or different types of datatypes is known as method overloading."
   ]
  },
  {
   "cell_type": "code",
   "execution_count": null,
   "id": "8837afa2-8b35-4c4b-abce-2f5d65690fbd",
   "metadata": {},
   "outputs": [],
   "source": [
    "METHOD OVERWRITING"
   ]
  },
  {
   "cell_type": "code",
   "execution_count": null,
   "id": "ff79008a-07c7-4b8b-857a-e0df01fcf192",
   "metadata": {},
   "outputs": [],
   "source": [
    "when both the inherited classes base class and child class are having same function name and same number of parameters\n",
    "are present in both the bhild class base class and child class, in this condition the child class method will overwrite the base class method.\n",
    "if you are calling the function to print the data it only print the overwrited method data(child class method data)"
   ]
  },
  {
   "cell_type": "code",
   "execution_count": 1,
   "id": "c01d5e9b-2895-43ff-94b4-59359c10052e",
   "metadata": {},
   "outputs": [
    {
     "name": "stdout",
     "output_type": "stream",
     "text": [
      "inside grandchild\n",
      "inside grandchild\n"
     ]
    }
   ],
   "source": [
    "class parent():\n",
    "    def show(self):\n",
    "        print(\"inside parent\")\n",
    "class child(parent):\n",
    "    def show(self):\n",
    "        print(\"inside child\")\n",
    "class grandchild():\n",
    "    def show(self):\n",
    "        print(\"inside grandchild\")\n",
    "g=grandchild()\n",
    "g.show()\n",
    "g.show()"
   ]
  },
  {
   "cell_type": "code",
   "execution_count": null,
   "id": "2235c0b0-5a42-4391-a99d-db87b9325829",
   "metadata": {},
   "outputs": [],
   "source": []
  }
 ],
 "metadata": {
  "kernelspec": {
   "display_name": "Python 3 (ipykernel)",
   "language": "python",
   "name": "python3"
  },
  "language_info": {
   "codemirror_mode": {
    "name": "ipython",
    "version": 3
   },
   "file_extension": ".py",
   "mimetype": "text/x-python",
   "name": "python",
   "nbconvert_exporter": "python",
   "pygments_lexer": "ipython3",
   "version": "3.11.7"
  }
 },
 "nbformat": 4,
 "nbformat_minor": 5
}
