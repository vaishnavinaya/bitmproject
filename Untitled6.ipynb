{
 "cells": [
  {
   "cell_type": "code",
   "execution_count": 1,
   "id": "cec12506-81aa-4a23-ab20-b75d638a7024",
   "metadata": {},
   "outputs": [
    {
     "name": "stdin",
     "output_type": "stream",
     "text": [
      " 5\n",
      " 10\n"
     ]
    },
    {
     "name": "stdout",
     "output_type": "stream",
     "text": [
      "5 * 1 = 5\n",
      "5 * 2 = 10\n",
      "5 * 3 = 15\n",
      "5 * 4 = 20\n",
      "5 * 5 = 25\n",
      "5 * 6 = 30\n",
      "5 * 7 = 35\n",
      "5 * 8 = 40\n",
      "5 * 9 = 45\n",
      "5 * 10 = 50\n"
     ]
    }
   ],
   "source": [
    "x=int(input())\n",
    "n=int(input())\n",
    "i=1\n",
    "for i in range(i,n+1):\n",
    "    print(x,\"*\",i,\"=\",x*i)"
   ]
  },
  {
   "cell_type": "code",
   "execution_count": null,
   "id": "cd3f742b-53b6-404b-89a2-6b292eb97372",
   "metadata": {},
   "outputs": [],
   "source": [
    "c"
   ]
  },
  {
   "cell_type": "markdown",
   "id": "a7e90b6f-e946-4ae0-9243-a27060fcc3f0",
   "metadata": {},
   "source": [
    "a=float(input())\n",
    "s=(input())\n",
    "b=float(input())\n",
    "if(s=='+'):\n",
    "    print(a+b)\n",
    "elif(s=='-'):\n",
    "    print(a-b)\n",
    "elif(s=='*'):\n",
    "    print(a*b)\n",
    "elif(s=='/'):\n",
    "    print(a/b)\n",
    "elif(s=='//'):\n",
    "    print(a//b)\n",
    "elif(s=='%'):\n",
    "    print(a%b)\n",
    "else:\n",
    "    print(\"invalid input\")\n"
   ]
  },
  {
   "cell_type": "code",
   "execution_count": null,
   "id": "0fe90d83-3b11-47c8-b446-af2e087724d2",
   "metadata": {},
   "outputs": [],
   "source": []
  }
 ],
 "metadata": {
  "kernelspec": {
   "display_name": "Python 3 (ipykernel)",
   "language": "python",
   "name": "python3"
  },
  "language_info": {
   "codemirror_mode": {
    "name": "ipython",
    "version": 3
   },
   "file_extension": ".py",
   "mimetype": "text/x-python",
   "name": "python",
   "nbconvert_exporter": "python",
   "pygments_lexer": "ipython3",
   "version": "3.11.7"
  }
 },
 "nbformat": 4,
 "nbformat_minor": 5
}
